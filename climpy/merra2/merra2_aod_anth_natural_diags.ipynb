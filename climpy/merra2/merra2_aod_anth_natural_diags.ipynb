{
 "cells": [
  {
   "cell_type": "code",
   "execution_count": 13,
   "metadata": {
    "scrolled": true
   },
   "outputs": [
    {
     "data": {
      "text/plain": [
       "113.42800377366957"
      ]
     },
     "execution_count": 13,
     "metadata": {},
     "output_type": "execute_result"
    }
   ],
   "source": [
    "# Estimate TP index based on pressure\n",
    "import datetime as dt\n",
    "from climpy.utils.merra_utils import derive_merra2_pressure_stag_profile\n",
    "data_root = '/work/mm0062/b302074/Data/NASA/MERRA2/'\n",
    "date_to_process = dt.datetime(1991, 6, 15)\n",
    "\n",
    "fp = '{}/{}/MERRA2_100.{}.{}.nc4'.format(data_root, 'inst3_3d_aer_Nv', 'inst3_3d_aer_Nv', date_to_process.strftime('%Y%m%d'))\n",
    "xr_3d = xr.open_dataset(fp)\n",
    "\n",
    "fp = '{}/{}/MERRA2_100.{}.{}.nc4'.format(data_root, 'tavg3_3d_nav_Ne', 'tavg3_3d_nav_Ne', date_to_process.strftime('%Y%m%d'))\n",
    "xr_3d_nav = xr.open_dataset(fp)  # provides stag grid\n",
    "\n",
    "p_stag = derive_merra2_pressure_stag_profile(xr_3d)\n"
   ]
  },
  {
   "cell_type": "code",
   "execution_count": 42,
   "metadata": {},
   "outputs": [
    {
     "name": "stdout",
     "output_type": "stream",
     "text": [
      "<xarray.DataArray 'ZLE' ()>\n",
      "array(14246.695, dtype=float32)\n",
      "Coordinates:\n",
      "    lon      float64 -5.0\n",
      "    lat      float64 -1.798e-13\n",
      "    lev      float64 40.0\n",
      "    time     datetime64[ns] 1991-06-15T01:30:00\n",
      "Attributes:\n",
      "    long_name:       edge_heights\n",
      "    units:           m\n",
      "    fmissing_value:  1000000000000000.0\n",
      "    standard_name:   edge_heights\n",
      "    vmax:            1000000000000000.0\n",
      "    vmin:            -1000000000000000.0\n",
      "    valid_range:     [-1.e+15  1.e+15]\n",
      "<xarray.DataArray 'ZLE' ()>\n",
      "array(13645.668, dtype=float32)\n",
      "Coordinates:\n",
      "    lev      float64 40.0\n",
      "    time     datetime64[ns] 1991-06-15T01:30:00\n"
     ]
    }
   ],
   "source": [
    "# TP is ~ 17 km\n",
    "print(xr_3d_nav['ZLE'][0, 40, 180, 280])  \n",
    "\n",
    "print(xr_3d_nav['ZLE'][0, 40].mean())  # 40 ~ 13.6 km"
   ]
  }
 ],
 "metadata": {
  "kernelspec": {
   "display_name": "Python 3 (based on the module python3/2022.01)",
   "language": "python",
   "name": "python3_2022_01"
  },
  "language_info": {
   "codemirror_mode": {
    "name": "ipython",
    "version": 3
   },
   "file_extension": ".py",
   "mimetype": "text/x-python",
   "name": "python",
   "nbconvert_exporter": "python",
   "pygments_lexer": "ipython3",
   "version": "3.9.9"
  }
 },
 "nbformat": 4,
 "nbformat_minor": 1
}
