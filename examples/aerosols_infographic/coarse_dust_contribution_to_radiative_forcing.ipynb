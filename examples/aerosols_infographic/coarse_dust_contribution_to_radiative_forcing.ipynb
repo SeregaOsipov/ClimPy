{
 "cells": [
  {
   "cell_type": "code",
   "execution_count": 2,
   "outputs": [
    {
     "data": {
      "text/plain": "'\\nhttps://github.com/SeregaOsipov/ClimPy/wiki/Aerosols-infographic\\n\\nThis is the modified version of aerosols_optical_properties_size_diags.py\\nHere, I use the airborne dust size distribution to access their contribution to aerosols optical properties and eventually to radiative forcing\\n'"
     },
     "execution_count": 2,
     "metadata": {},
     "output_type": "execute_result"
    }
   ],
   "source": [
    "import climpy.utils.mie_utils as mie\n",
    "import climpy.utils.aeronet_utils as aeronet\n",
    "import matplotlib.pyplot as plt\n",
    "import numpy as np\n",
    "import pandas as pd\n",
    "import datetime as dt\n",
    "import os\n",
    "from climpy.utils.plotting_utils import JGR_page_width_inches, save_figure_bundle\n",
    "from climpy.utils.refractive_index_utils import get_dust_ri\n",
    "from climpy.utils.stats_utils import get_cdf\n",
    "\n",
    "__author__ = 'Sergey Osipov <Serega.Osipov@gmail.com>'\n",
    "\n",
    "\"\"\"\n",
    "https://github.com/SeregaOsipov/ClimPy/wiki/Aerosols-infographic\n",
    "\n",
    "This is the modified version of aerosols_optical_properties_size_diags.py\n",
    "Here, I use the airborne dust size distribution to access their contribution to aerosols optical properties and eventually to radiative forcing\n",
    "\"\"\""
   ],
   "metadata": {
    "collapsed": false
   }
  },
  {
   "cell_type": "code",
   "execution_count": 149,
   "outputs": [],
   "source": [
    "# These are NCAR size distribution measured during cloud seeding research by Duncan Axisa\n",
    "\n",
    "\n",
    "def get_abha_size_distribution():\n",
    "    # prep SD aux data\n",
    "    fp  = '/home/osipovs/Downloads/Abha/ASDprocessed/ASD_bins.csv'\n",
    "    sd_bins_df = pd.read_csv(fp, header=0, skipinitialspace=True, sep=';')\n",
    "    sd_bins_df = sd_bins_df[['ASD', 'Mid size']]\n",
    "    # prep SD data\n",
    "    fp  = '/home/osipovs/Downloads/Abha/ASDprocessed/RF08_20090811_ASD_no_smooth.csv'\n",
    "    df = pd.read_csv(fp, header=0, skipinitialspace=True)\n",
    "    # drop regions contaminated by clouds (cloud=1)\n",
    "    df = df[df['cloud'] == 0]\n",
    "    df = df.sort_values('Alt')\n",
    "    dz = df.Alt.diff()\n",
    "\n",
    "    # integrate vertically\n",
    "    sd_columns = [column for column in df.columns if 'ASD' in column]\n",
    "    # ASD: aerosol conc in each size bin dN/dlogDp (number/cm^3); aerosol size in micrometers\n",
    "    # ALT: altitude in meters\n",
    "    column_sd_df = df[sd_columns].multiply(dz*10**2, axis='index')  # number / cm^2\n",
    "    column_sd_df = column_sd_df.iloc[1:]  # drop first row due to NaN in dz\n",
    "    if column_sd_df.isnull().values.any():\n",
    "        raise Exception('NaN values prior to integration could cause faulty results across the size distribution')\n",
    "    column_sd_df = column_sd_df.sum(axis=0)\n",
    "\n",
    "    return column_sd_df\n",
    "\n",
    "\n",
    "def get_riyadh_size_distribution():\n",
    "    # Riyadh size distributyion\n",
    "    fp = '/home/osipovs/Downloads/Riyadh/Duncan/20070409_number.txt'\n",
    "    df = pd.read_csv(fp, header=0, delim_whitespace=True) #, skipinitialspace=True)\n",
    "    df.rename(columns={'GALT[m]':'Alt'}, inplace=True)\n",
    "    df = df.sort_values('Alt')\n",
    "    df = df.dropna()\n",
    "    dz = df.Alt.diff()\n",
    "\n",
    "    # integrate vertically\n",
    "    sd_columns = []\n",
    "    bin_sizes = []\n",
    "    for column in df.columns:\n",
    "        try:\n",
    "            size = float(column)\n",
    "            sd_columns += [column, ]\n",
    "            bin_sizes += [size, ]\n",
    "        except:\n",
    "            continue\n",
    "\n",
    "    # ASD: aerosol conc in each size bin dN/dlogDp (number/cm^3); aerosol size in micrometers\n",
    "    # ALT: altitude in meters\n",
    "    column_sd_df = df[sd_columns].multiply(dz*10**2, axis='index')  # number / cm^2\n",
    "    column_sd_df = column_sd_df.iloc[1:]  # drop first row due to NaN in dz\n",
    "    if column_sd_df.isnull().values.any():\n",
    "        raise Exception('NaN values prior to integration could cause faulty results across the size distribution')\n",
    "    column_sd_df = column_sd_df.sum(axis=0)\n",
    "\n",
    "    column_sd_df.index = bin_sizes\n",
    "\n",
    "    return column_sd_df"
   ],
   "metadata": {
    "collapsed": false
   }
  },
  {
   "cell_type": "code",
   "execution_count": 150,
   "outputs": [],
   "source": [
    "columnd_sd_df = get_riyadh_size_distribution()"
   ],
   "metadata": {
    "collapsed": false
   }
  },
  {
   "cell_type": "code",
   "execution_count": 154,
   "outputs": [
    {
     "data": {
      "text/plain": "Index(['time', '0.0124', '0.0129', '0.01341', '0.01394', '0.0145', '0.01508',\n       '0.01568', '0.01631', '0.01696',\n       ...\n       '34.0', '36.5', '39.5', '42.5', '45.5', 'GLAT', 'GLON', 'Alt', 'ATN[C]',\n       'DPN[C]'],\n      dtype='object', length=123)"
     },
     "execution_count": 154,
     "metadata": {},
     "output_type": "execute_result"
    }
   ],
   "source": [
    "df.columns"
   ],
   "metadata": {
    "collapsed": false
   }
  },
  {
   "cell_type": "code",
   "execution_count": 151,
   "outputs": [
    {
     "data": {
      "text/plain": "Text(0, 0.5, 'dN/dlogDp, ($\\\\mathrm{cm^{-2}}$)')"
     },
     "execution_count": 151,
     "metadata": {},
     "output_type": "execute_result"
    },
    {
     "data": {
      "text/plain": "<Figure size 640x480 with 1 Axes>",
      "image/png": "[encoded data removed]"
     },
     "metadata": {},
     "output_type": "display_data"
    }
   ],
   "source": [
    "ax = column_sd_df.plot(logy=True, logx=True)\n",
    "ax.set_xlim([0.5, 50])\n",
    "ax.set_xlabel('Particle diameter, ($\\mathrm{\\mu m}$)')\n",
    "ax.set_ylabel('dN/dlogDp, ($\\mathrm{cm^{-2}}$)')"
   ],
   "metadata": {
    "collapsed": false
   }
  },
  {
   "cell_type": "code",
   "execution_count": 153,
   "outputs": [
    {
     "ename": "FileNotFoundError",
     "evalue": "[Errno 2] No such file or directory: './examples/aerosols_infographic/size_distribution_data/aeronet.csv'",
     "output_type": "error",
     "traceback": [
      "\u001B[0;31m---------------------------------------------------------------------------\u001B[0m",
      "\u001B[0;31mFileNotFoundError\u001B[0m                         Traceback (most recent call last)",
      "Cell \u001B[0;32mIn[153], line 18\u001B[0m\n\u001B[1;32m      8\u001B[0m file_name_postfix \u001B[38;5;241m=\u001B[39m \u001B[38;5;124m'\u001B[39m\u001B[38;5;124mKAUST Aeronet\u001B[39m\u001B[38;5;124m'\u001B[39m\n\u001B[1;32m      9\u001B[0m \u001B[38;5;66;03m# 2. Deposition sample (sieved)\u001B[39;00m\n\u001B[1;32m     10\u001B[0m \u001B[38;5;66;03m# csv_fp = '../ClimPy/examples/aerosols_infographic/size_distribution_data/sieved.csv'\u001B[39;00m\n\u001B[1;32m     11\u001B[0m \u001B[38;5;66;03m# panel_annotation_lr = 'Deposition samples @ KAUST\\nSieved, 2016-2018 mean'\u001B[39;00m\n\u001B[0;32m   (...)\u001B[0m\n\u001B[1;32m     16\u001B[0m \u001B[38;5;66;03m# file_name_postfix = 'KAUST unsieved deposition'\u001B[39;00m\n\u001B[1;32m     17\u001B[0m \u001B[38;5;66;03m#NOTE: deposition samples were normalized somehow\u001B[39;00m\n\u001B[0;32m---> 18\u001B[0m sd_df \u001B[38;5;241m=\u001B[39m \u001B[43mpd\u001B[49m\u001B[38;5;241;43m.\u001B[39;49m\u001B[43mread_csv\u001B[49m\u001B[43m(\u001B[49m\u001B[43mcsv_fp\u001B[49m\u001B[43m,\u001B[49m\u001B[43m \u001B[49m\u001B[43musecols\u001B[49m\u001B[38;5;241;43m=\u001B[39;49m\u001B[43m[\u001B[49m\u001B[38;5;241;43m1\u001B[39;49m\u001B[43m,\u001B[49m\u001B[43m \u001B[49m\u001B[38;5;241;43m2\u001B[39;49m\u001B[43m]\u001B[49m\u001B[43m)\u001B[49m\n",
      "File \u001B[0;32m~/apps/mambaforge/envs/py310/lib/python3.10/site-packages/pandas/util/_decorators.py:211\u001B[0m, in \u001B[0;36mdeprecate_kwarg.<locals>._deprecate_kwarg.<locals>.wrapper\u001B[0;34m(*args, **kwargs)\u001B[0m\n\u001B[1;32m    209\u001B[0m     \u001B[38;5;28;01melse\u001B[39;00m:\n\u001B[1;32m    210\u001B[0m         kwargs[new_arg_name] \u001B[38;5;241m=\u001B[39m new_arg_value\n\u001B[0;32m--> 211\u001B[0m \u001B[38;5;28;01mreturn\u001B[39;00m \u001B[43mfunc\u001B[49m\u001B[43m(\u001B[49m\u001B[38;5;241;43m*\u001B[39;49m\u001B[43margs\u001B[49m\u001B[43m,\u001B[49m\u001B[43m \u001B[49m\u001B[38;5;241;43m*\u001B[39;49m\u001B[38;5;241;43m*\u001B[39;49m\u001B[43mkwargs\u001B[49m\u001B[43m)\u001B[49m\n",
      "File \u001B[0;32m~/apps/mambaforge/envs/py310/lib/python3.10/site-packages/pandas/util/_decorators.py:331\u001B[0m, in \u001B[0;36mdeprecate_nonkeyword_arguments.<locals>.decorate.<locals>.wrapper\u001B[0;34m(*args, **kwargs)\u001B[0m\n\u001B[1;32m    325\u001B[0m \u001B[38;5;28;01mif\u001B[39;00m \u001B[38;5;28mlen\u001B[39m(args) \u001B[38;5;241m>\u001B[39m num_allow_args:\n\u001B[1;32m    326\u001B[0m     warnings\u001B[38;5;241m.\u001B[39mwarn(\n\u001B[1;32m    327\u001B[0m         msg\u001B[38;5;241m.\u001B[39mformat(arguments\u001B[38;5;241m=\u001B[39m_format_argument_list(allow_args)),\n\u001B[1;32m    328\u001B[0m         \u001B[38;5;167;01mFutureWarning\u001B[39;00m,\n\u001B[1;32m    329\u001B[0m         stacklevel\u001B[38;5;241m=\u001B[39mfind_stack_level(),\n\u001B[1;32m    330\u001B[0m     )\n\u001B[0;32m--> 331\u001B[0m \u001B[38;5;28;01mreturn\u001B[39;00m \u001B[43mfunc\u001B[49m\u001B[43m(\u001B[49m\u001B[38;5;241;43m*\u001B[39;49m\u001B[43margs\u001B[49m\u001B[43m,\u001B[49m\u001B[43m \u001B[49m\u001B[38;5;241;43m*\u001B[39;49m\u001B[38;5;241;43m*\u001B[39;49m\u001B[43mkwargs\u001B[49m\u001B[43m)\u001B[49m\n",
      "File \u001B[0;32m~/apps/mambaforge/envs/py310/lib/python3.10/site-packages/pandas/io/parsers/readers.py:950\u001B[0m, in \u001B[0;36mread_csv\u001B[0;34m(filepath_or_buffer, sep, delimiter, header, names, index_col, usecols, squeeze, prefix, mangle_dupe_cols, dtype, engine, converters, true_values, false_values, skipinitialspace, skiprows, skipfooter, nrows, na_values, keep_default_na, na_filter, verbose, skip_blank_lines, parse_dates, infer_datetime_format, keep_date_col, date_parser, dayfirst, cache_dates, iterator, chunksize, compression, thousands, decimal, lineterminator, quotechar, quoting, doublequote, escapechar, comment, encoding, encoding_errors, dialect, error_bad_lines, warn_bad_lines, on_bad_lines, delim_whitespace, low_memory, memory_map, float_precision, storage_options)\u001B[0m\n\u001B[1;32m    935\u001B[0m kwds_defaults \u001B[38;5;241m=\u001B[39m _refine_defaults_read(\n\u001B[1;32m    936\u001B[0m     dialect,\n\u001B[1;32m    937\u001B[0m     delimiter,\n\u001B[0;32m   (...)\u001B[0m\n\u001B[1;32m    946\u001B[0m     defaults\u001B[38;5;241m=\u001B[39m{\u001B[38;5;124m\"\u001B[39m\u001B[38;5;124mdelimiter\u001B[39m\u001B[38;5;124m\"\u001B[39m: \u001B[38;5;124m\"\u001B[39m\u001B[38;5;124m,\u001B[39m\u001B[38;5;124m\"\u001B[39m},\n\u001B[1;32m    947\u001B[0m )\n\u001B[1;32m    948\u001B[0m kwds\u001B[38;5;241m.\u001B[39mupdate(kwds_defaults)\n\u001B[0;32m--> 950\u001B[0m \u001B[38;5;28;01mreturn\u001B[39;00m \u001B[43m_read\u001B[49m\u001B[43m(\u001B[49m\u001B[43mfilepath_or_buffer\u001B[49m\u001B[43m,\u001B[49m\u001B[43m \u001B[49m\u001B[43mkwds\u001B[49m\u001B[43m)\u001B[49m\n",
      "File \u001B[0;32m~/apps/mambaforge/envs/py310/lib/python3.10/site-packages/pandas/io/parsers/readers.py:605\u001B[0m, in \u001B[0;36m_read\u001B[0;34m(filepath_or_buffer, kwds)\u001B[0m\n\u001B[1;32m    602\u001B[0m _validate_names(kwds\u001B[38;5;241m.\u001B[39mget(\u001B[38;5;124m\"\u001B[39m\u001B[38;5;124mnames\u001B[39m\u001B[38;5;124m\"\u001B[39m, \u001B[38;5;28;01mNone\u001B[39;00m))\n\u001B[1;32m    604\u001B[0m \u001B[38;5;66;03m# Create the parser.\u001B[39;00m\n\u001B[0;32m--> 605\u001B[0m parser \u001B[38;5;241m=\u001B[39m \u001B[43mTextFileReader\u001B[49m\u001B[43m(\u001B[49m\u001B[43mfilepath_or_buffer\u001B[49m\u001B[43m,\u001B[49m\u001B[43m \u001B[49m\u001B[38;5;241;43m*\u001B[39;49m\u001B[38;5;241;43m*\u001B[39;49m\u001B[43mkwds\u001B[49m\u001B[43m)\u001B[49m\n\u001B[1;32m    607\u001B[0m \u001B[38;5;28;01mif\u001B[39;00m chunksize \u001B[38;5;129;01mor\u001B[39;00m iterator:\n\u001B[1;32m    608\u001B[0m     \u001B[38;5;28;01mreturn\u001B[39;00m parser\n",
      "File \u001B[0;32m~/apps/mambaforge/envs/py310/lib/python3.10/site-packages/pandas/io/parsers/readers.py:1442\u001B[0m, in \u001B[0;36mTextFileReader.__init__\u001B[0;34m(self, f, engine, **kwds)\u001B[0m\n\u001B[1;32m   1439\u001B[0m     \u001B[38;5;28mself\u001B[39m\u001B[38;5;241m.\u001B[39moptions[\u001B[38;5;124m\"\u001B[39m\u001B[38;5;124mhas_index_names\u001B[39m\u001B[38;5;124m\"\u001B[39m] \u001B[38;5;241m=\u001B[39m kwds[\u001B[38;5;124m\"\u001B[39m\u001B[38;5;124mhas_index_names\u001B[39m\u001B[38;5;124m\"\u001B[39m]\n\u001B[1;32m   1441\u001B[0m \u001B[38;5;28mself\u001B[39m\u001B[38;5;241m.\u001B[39mhandles: IOHandles \u001B[38;5;241m|\u001B[39m \u001B[38;5;28;01mNone\u001B[39;00m \u001B[38;5;241m=\u001B[39m \u001B[38;5;28;01mNone\u001B[39;00m\n\u001B[0;32m-> 1442\u001B[0m \u001B[38;5;28mself\u001B[39m\u001B[38;5;241m.\u001B[39m_engine \u001B[38;5;241m=\u001B[39m \u001B[38;5;28;43mself\u001B[39;49m\u001B[38;5;241;43m.\u001B[39;49m\u001B[43m_make_engine\u001B[49m\u001B[43m(\u001B[49m\u001B[43mf\u001B[49m\u001B[43m,\u001B[49m\u001B[43m \u001B[49m\u001B[38;5;28;43mself\u001B[39;49m\u001B[38;5;241;43m.\u001B[39;49m\u001B[43mengine\u001B[49m\u001B[43m)\u001B[49m\n",
      "File \u001B[0;32m~/apps/mambaforge/envs/py310/lib/python3.10/site-packages/pandas/io/parsers/readers.py:1735\u001B[0m, in \u001B[0;36mTextFileReader._make_engine\u001B[0;34m(self, f, engine)\u001B[0m\n\u001B[1;32m   1733\u001B[0m     \u001B[38;5;28;01mif\u001B[39;00m \u001B[38;5;124m\"\u001B[39m\u001B[38;5;124mb\u001B[39m\u001B[38;5;124m\"\u001B[39m \u001B[38;5;129;01mnot\u001B[39;00m \u001B[38;5;129;01min\u001B[39;00m mode:\n\u001B[1;32m   1734\u001B[0m         mode \u001B[38;5;241m+\u001B[39m\u001B[38;5;241m=\u001B[39m \u001B[38;5;124m\"\u001B[39m\u001B[38;5;124mb\u001B[39m\u001B[38;5;124m\"\u001B[39m\n\u001B[0;32m-> 1735\u001B[0m \u001B[38;5;28mself\u001B[39m\u001B[38;5;241m.\u001B[39mhandles \u001B[38;5;241m=\u001B[39m \u001B[43mget_handle\u001B[49m\u001B[43m(\u001B[49m\n\u001B[1;32m   1736\u001B[0m \u001B[43m    \u001B[49m\u001B[43mf\u001B[49m\u001B[43m,\u001B[49m\n\u001B[1;32m   1737\u001B[0m \u001B[43m    \u001B[49m\u001B[43mmode\u001B[49m\u001B[43m,\u001B[49m\n\u001B[1;32m   1738\u001B[0m \u001B[43m    \u001B[49m\u001B[43mencoding\u001B[49m\u001B[38;5;241;43m=\u001B[39;49m\u001B[38;5;28;43mself\u001B[39;49m\u001B[38;5;241;43m.\u001B[39;49m\u001B[43moptions\u001B[49m\u001B[38;5;241;43m.\u001B[39;49m\u001B[43mget\u001B[49m\u001B[43m(\u001B[49m\u001B[38;5;124;43m\"\u001B[39;49m\u001B[38;5;124;43mencoding\u001B[39;49m\u001B[38;5;124;43m\"\u001B[39;49m\u001B[43m,\u001B[49m\u001B[43m \u001B[49m\u001B[38;5;28;43;01mNone\u001B[39;49;00m\u001B[43m)\u001B[49m\u001B[43m,\u001B[49m\n\u001B[1;32m   1739\u001B[0m \u001B[43m    \u001B[49m\u001B[43mcompression\u001B[49m\u001B[38;5;241;43m=\u001B[39;49m\u001B[38;5;28;43mself\u001B[39;49m\u001B[38;5;241;43m.\u001B[39;49m\u001B[43moptions\u001B[49m\u001B[38;5;241;43m.\u001B[39;49m\u001B[43mget\u001B[49m\u001B[43m(\u001B[49m\u001B[38;5;124;43m\"\u001B[39;49m\u001B[38;5;124;43mcompression\u001B[39;49m\u001B[38;5;124;43m\"\u001B[39;49m\u001B[43m,\u001B[49m\u001B[43m \u001B[49m\u001B[38;5;28;43;01mNone\u001B[39;49;00m\u001B[43m)\u001B[49m\u001B[43m,\u001B[49m\n\u001B[1;32m   1740\u001B[0m \u001B[43m    \u001B[49m\u001B[43mmemory_map\u001B[49m\u001B[38;5;241;43m=\u001B[39;49m\u001B[38;5;28;43mself\u001B[39;49m\u001B[38;5;241;43m.\u001B[39;49m\u001B[43moptions\u001B[49m\u001B[38;5;241;43m.\u001B[39;49m\u001B[43mget\u001B[49m\u001B[43m(\u001B[49m\u001B[38;5;124;43m\"\u001B[39;49m\u001B[38;5;124;43mmemory_map\u001B[39;49m\u001B[38;5;124;43m\"\u001B[39;49m\u001B[43m,\u001B[49m\u001B[43m \u001B[49m\u001B[38;5;28;43;01mFalse\u001B[39;49;00m\u001B[43m)\u001B[49m\u001B[43m,\u001B[49m\n\u001B[1;32m   1741\u001B[0m \u001B[43m    \u001B[49m\u001B[43mis_text\u001B[49m\u001B[38;5;241;43m=\u001B[39;49m\u001B[43mis_text\u001B[49m\u001B[43m,\u001B[49m\n\u001B[1;32m   1742\u001B[0m \u001B[43m    \u001B[49m\u001B[43merrors\u001B[49m\u001B[38;5;241;43m=\u001B[39;49m\u001B[38;5;28;43mself\u001B[39;49m\u001B[38;5;241;43m.\u001B[39;49m\u001B[43moptions\u001B[49m\u001B[38;5;241;43m.\u001B[39;49m\u001B[43mget\u001B[49m\u001B[43m(\u001B[49m\u001B[38;5;124;43m\"\u001B[39;49m\u001B[38;5;124;43mencoding_errors\u001B[39;49m\u001B[38;5;124;43m\"\u001B[39;49m\u001B[43m,\u001B[49m\u001B[43m \u001B[49m\u001B[38;5;124;43m\"\u001B[39;49m\u001B[38;5;124;43mstrict\u001B[39;49m\u001B[38;5;124;43m\"\u001B[39;49m\u001B[43m)\u001B[49m\u001B[43m,\u001B[49m\n\u001B[1;32m   1743\u001B[0m \u001B[43m    \u001B[49m\u001B[43mstorage_options\u001B[49m\u001B[38;5;241;43m=\u001B[39;49m\u001B[38;5;28;43mself\u001B[39;49m\u001B[38;5;241;43m.\u001B[39;49m\u001B[43moptions\u001B[49m\u001B[38;5;241;43m.\u001B[39;49m\u001B[43mget\u001B[49m\u001B[43m(\u001B[49m\u001B[38;5;124;43m\"\u001B[39;49m\u001B[38;5;124;43mstorage_options\u001B[39;49m\u001B[38;5;124;43m\"\u001B[39;49m\u001B[43m,\u001B[49m\u001B[43m \u001B[49m\u001B[38;5;28;43;01mNone\u001B[39;49;00m\u001B[43m)\u001B[49m\u001B[43m,\u001B[49m\n\u001B[1;32m   1744\u001B[0m \u001B[43m\u001B[49m\u001B[43m)\u001B[49m\n\u001B[1;32m   1745\u001B[0m \u001B[38;5;28;01massert\u001B[39;00m \u001B[38;5;28mself\u001B[39m\u001B[38;5;241m.\u001B[39mhandles \u001B[38;5;129;01mis\u001B[39;00m \u001B[38;5;129;01mnot\u001B[39;00m \u001B[38;5;28;01mNone\u001B[39;00m\n\u001B[1;32m   1746\u001B[0m f \u001B[38;5;241m=\u001B[39m \u001B[38;5;28mself\u001B[39m\u001B[38;5;241m.\u001B[39mhandles\u001B[38;5;241m.\u001B[39mhandle\n",
      "File \u001B[0;32m~/apps/mambaforge/envs/py310/lib/python3.10/site-packages/pandas/io/common.py:856\u001B[0m, in \u001B[0;36mget_handle\u001B[0;34m(path_or_buf, mode, encoding, compression, memory_map, is_text, errors, storage_options)\u001B[0m\n\u001B[1;32m    851\u001B[0m \u001B[38;5;28;01melif\u001B[39;00m \u001B[38;5;28misinstance\u001B[39m(handle, \u001B[38;5;28mstr\u001B[39m):\n\u001B[1;32m    852\u001B[0m     \u001B[38;5;66;03m# Check whether the filename is to be opened in binary mode.\u001B[39;00m\n\u001B[1;32m    853\u001B[0m     \u001B[38;5;66;03m# Binary mode does not support 'encoding' and 'newline'.\u001B[39;00m\n\u001B[1;32m    854\u001B[0m     \u001B[38;5;28;01mif\u001B[39;00m ioargs\u001B[38;5;241m.\u001B[39mencoding \u001B[38;5;129;01mand\u001B[39;00m \u001B[38;5;124m\"\u001B[39m\u001B[38;5;124mb\u001B[39m\u001B[38;5;124m\"\u001B[39m \u001B[38;5;129;01mnot\u001B[39;00m \u001B[38;5;129;01min\u001B[39;00m ioargs\u001B[38;5;241m.\u001B[39mmode:\n\u001B[1;32m    855\u001B[0m         \u001B[38;5;66;03m# Encoding\u001B[39;00m\n\u001B[0;32m--> 856\u001B[0m         handle \u001B[38;5;241m=\u001B[39m \u001B[38;5;28;43mopen\u001B[39;49m\u001B[43m(\u001B[49m\n\u001B[1;32m    857\u001B[0m \u001B[43m            \u001B[49m\u001B[43mhandle\u001B[49m\u001B[43m,\u001B[49m\n\u001B[1;32m    858\u001B[0m \u001B[43m            \u001B[49m\u001B[43mioargs\u001B[49m\u001B[38;5;241;43m.\u001B[39;49m\u001B[43mmode\u001B[49m\u001B[43m,\u001B[49m\n\u001B[1;32m    859\u001B[0m \u001B[43m            \u001B[49m\u001B[43mencoding\u001B[49m\u001B[38;5;241;43m=\u001B[39;49m\u001B[43mioargs\u001B[49m\u001B[38;5;241;43m.\u001B[39;49m\u001B[43mencoding\u001B[49m\u001B[43m,\u001B[49m\n\u001B[1;32m    860\u001B[0m \u001B[43m            \u001B[49m\u001B[43merrors\u001B[49m\u001B[38;5;241;43m=\u001B[39;49m\u001B[43merrors\u001B[49m\u001B[43m,\u001B[49m\n\u001B[1;32m    861\u001B[0m \u001B[43m            \u001B[49m\u001B[43mnewline\u001B[49m\u001B[38;5;241;43m=\u001B[39;49m\u001B[38;5;124;43m\"\u001B[39;49m\u001B[38;5;124;43m\"\u001B[39;49m\u001B[43m,\u001B[49m\n\u001B[1;32m    862\u001B[0m \u001B[43m        \u001B[49m\u001B[43m)\u001B[49m\n\u001B[1;32m    863\u001B[0m     \u001B[38;5;28;01melse\u001B[39;00m:\n\u001B[1;32m    864\u001B[0m         \u001B[38;5;66;03m# Binary mode\u001B[39;00m\n\u001B[1;32m    865\u001B[0m         handle \u001B[38;5;241m=\u001B[39m \u001B[38;5;28mopen\u001B[39m(handle, ioargs\u001B[38;5;241m.\u001B[39mmode)\n",
      "\u001B[0;31mFileNotFoundError\u001B[0m: [Errno 2] No such file or directory: './examples/aerosols_infographic/size_distribution_data/aeronet.csv'"
     ]
    }
   ],
   "source": [
    "# get dust RI for Saudi\n",
    "ri_vo = get_dust_ri()\n",
    "# and size distribution\n",
    "# Three cases:\n",
    "# 1. Aeronet SD at KAUST\n",
    "csv_fp = './examples/aerosols_infographic/size_distribution_data/aeronet.csv'\n",
    "panel_annotation_lr = 'Aeronet station @ KAUST\\n2014-2019 mean'\n",
    "file_name_postfix = 'KAUST Aeronet'\n",
    "# 2. Deposition sample (sieved)\n",
    "# csv_fp = '../ClimPy/examples/aerosols_infographic/size_distribution_data/sieved.csv'\n",
    "# panel_annotation_lr = 'Deposition samples @ KAUST\\nSieved, 2016-2018 mean'\n",
    "# file_name_postfix = 'KAUST sieved deposition'\n",
    "# 3. Deposition sample (unsieved)\n",
    "# csv_fp = '../ClimPy/examples/aerosols_infographic/size_distribution_data/unsieved.csv'\n",
    "# panel_annotation_lr = 'Deposition samples @ KAUST\\nUnsieved, 2016-2018 mean'\n",
    "# file_name_postfix = 'KAUST unsieved deposition'\n",
    "#NOTE: deposition samples were normalized somehow\n",
    "sd_df = pd.read_csv(csv_fp, usecols=[1, 2])"
   ],
   "metadata": {
    "collapsed": false
   }
  },
  {
   "cell_type": "code",
   "execution_count": null,
   "outputs": [],
   "source": [
    "\n",
    "wl_index = 0\n",
    "\n",
    "# Compute Mie extinction coefficients\n",
    "r_data = sd_df['radii'].to_numpy()\n",
    "mie_vo = mie.get_mie_efficiencies(ri_vo['ri'], r_data, ri_vo['wl'])\n",
    "\n",
    "cross_section_area_transform = 3/4 * r_data**-1\n",
    "od = np.trapz(mie_vo['qext'] * sd_df['dVdlnr'].to_numpy() * cross_section_area_transform, np.log(r_data), axis=1)\n",
    "\n",
    "# compute the CDFs for volume/mass and AOD\n",
    "volume_cdf = get_cdf(sd_df['dVdlnr'], np.log(r_data))\n",
    "area_cdf = get_cdf(sd_df['dVdlnr'] * cross_section_area_transform, np.log(r_data))\n",
    "aod_cdf = get_cdf(mie_vo['qext'][wl_index] * sd_df['dVdlnr'] * cross_section_area_transform, np.log(r_data))\n",
    "\n",
    "# radius setup\n",
    "x_coord = sd_df['radii']\n",
    "x_coord_label = 'Radius'\n",
    "# diameter setup\n",
    "x_coord = 2*sd_df['radii']\n",
    "x_coord_label = 'Diameter'\n",
    "\n",
    "# DO THE PLOTTING\n",
    "fig = plt.figure(constrained_layout=True, figsize=(JGR_page_width_inches() * 1.15, JGR_page_width_inches()))\n",
    "# fig = plt.figure(figsize=(get_JGR_full_page_width_inches()*1., get_JGR_full_page_width_inches()))\n",
    "gs = fig.add_gridspec(ncols=2, nrows=4, width_ratios=[1, 3], height_ratios=[3, 10, 10, 10])\n",
    "\n",
    "# HEADER\n",
    "ax_text = fig.add_subplot(gs[0, :])\n",
    "ax_text.annotate(r'Aerosols: mass vs optical depth', (0.5, 0.5),\n",
    "                 fontsize='xx-large',\n",
    "                 xycoords='axes fraction', va='center', ha='center')\n",
    "ax_text.axis('off')\n",
    "\n",
    "ax_text = fig.add_subplot(gs[1, 0])\n",
    "ax_text.annotate('Area under the curves\\n\\nrepresents volume (mass) and \\ncross section (attenuation of light)',\n",
    "                 (0.5, 0.5),\n",
    "                 xycoords='axes fraction', va='center', ha='center')\n",
    "ax_text.axis('off')\n",
    "\n",
    "ax_text = fig.add_subplot(gs[2, 0])\n",
    "ax_text.annotate('Extinction efficiency of each particle.\\n\\n$\\lambda$ = {:3.0f} nm'.format(ri_vo['wl'][wl_index]*10**3), (0.5, 0.5),\n",
    "                 xycoords='axes fraction', va='center', ha='center')\n",
    "ax_text.axis('off')\n",
    "\n",
    "ax_text = fig.add_subplot(gs[3, 0])\n",
    "ax_text.annotate('Contribution of particles that are <= r.\\n\\nNormalized to 1.', (0.5, 0.5),\n",
    "                 xycoords='axes fraction', va='center', ha='center')\n",
    "ax_text.axis('off')\n",
    "\n",
    "# the plots itself\n",
    "ax = fig.add_subplot(gs[1, 1])\n",
    "plt.sca(ax)\n",
    "plt.plot(x_coord, sd_df['dVdlnr'], '-o', label='Volume')\n",
    "plt.xscale('log')\n",
    "# plt.xlabel('{}, ($\\mu m$)'.format(x_coord_label))\n",
    "plt.ylabel('dV/dlnr [$\\mu m^3$ $\\mu m^{-2}$]')\n",
    "plt.title('Size distributions')\n",
    "# plt.legend(loc='upper left')\n",
    "\n",
    "color = 'tab:orange'\n",
    "ax2 = ax.twinx()\n",
    "plt.sca(ax2)\n",
    "plt.xscale('log')\n",
    "plt.tick_params(axis='y', labelcolor=color)\n",
    "plt.plot(x_coord, sd_df['dVdlnr']*3/4*r_data**-1, '-o', color=color, label='Area')\n",
    "plt.ylabel('dA/dlnr [$\\mu m^2$ $\\mu m^{-2}$]', color=color)\n",
    "# plt.legend(loc='upper right')\n",
    "\n",
    "h1, l1 = ax.get_legend_handles_labels()\n",
    "h2, l2 = ax2.get_legend_handles_labels()\n",
    "ax2.legend(h1+h2, l1+l2, loc='upper right')\n",
    "\n",
    "# ax = fig.add_subplot(gs[2, 1])\n",
    "# plt.sca(ax)\n",
    "# plt.plot(ri_vo['wl'], np.real(ri_vo['data']), '-o')\n",
    "# plt.xlabel('Wavelength, ($\\mu m$)')\n",
    "# plt.ylabel('Re(refractive index)')\n",
    "#\n",
    "# color = 'tab:gray'\n",
    "# ax2 = ax.twinx()\n",
    "# ax2.tick_params(axis='y', labelcolor=color)\n",
    "# plt.plot(ri_vo['wl'], np.imag(ri_vo['data']), '-o', color=color)\n",
    "# plt.ylabel('Im(refractive index)', color=color)\n",
    "# plt.title('Refractive index')\n",
    "\n",
    "ax = fig.add_subplot(gs[2, 1])\n",
    "plt.sca(ax)\n",
    "plt.plot(x_coord, mie_vo['qext'][wl_index], '-o')  # x_coord is sample the same as 2*mie_vo['r_data']\n",
    "plt.xscale('log')\n",
    "# plt.xlabel('{}, ($\\mu m$)'.format(x_coord_label))\n",
    "plt.ylabel('Extinction coefficient, ()')\n",
    "plt.title('Mie $Q_{ext}$')\n",
    "\n",
    "ax = fig.add_subplot(gs[3, 1])\n",
    "plt.sca(ax)\n",
    "plt.grid()\n",
    "plt.plot(x_coord, volume_cdf/volume_cdf[-1], '-o', label='Volume')\n",
    "plt.plot(x_coord, area_cdf/area_cdf[-1], '-o', label='Area')\n",
    "plt.plot(x_coord, aod_cdf/aod_cdf[-1], '-o', label='AOD')\n",
    "plt.xscale('log')\n",
    "plt.xlabel('{}, ($\\mu m$)'.format(x_coord_label))\n",
    "plt.ylabel('CDF, ()')\n",
    "plt.title('Cumulative distribution functions')  #  \\n normalized to 1\n",
    "plt.legend()\n",
    "\n",
    "# text at the bottom\n",
    "plt.annotate(panel_annotation_lr, (0.99, 0.015), fontsize='x-small', xycoords='figure fraction', va='center', ha='right')\n",
    "url = 'https://github.com/SeregaOsipov/ClimPy/wiki/Aerosols-infographic'\n",
    "# have to create new axis because of the bug in constrained_layout\n",
    "ax_b = plt.axes((0.01, 0.015, 0.5, 0.05), facecolor='w')\n",
    "ax_b.annotate('{}'.format(url), (0.01, 0.015), fontsize='x-small', xycoords='figure fraction', va='center', ha='left')\n",
    "ax_b.axis('off')\n",
    "# plt.tight_layout()\n",
    "\n",
    "save_figure_bundle(os.path.expanduser('~') + '/Pictures/Papers/infographics/aerosols/{}/'.format(x_coord_label),\n",
    "                   'Aerosols size distribution and optical properties, {}, wl={}'.format(file_name_postfix, ri_vo['wl'][wl_index]))\n",
    "save_figure_bundle(get_root_storage_path_on_hpc() + '/Pictures/Papers/infographics/aerosols/{}/'.format(x_coord_label),\n",
    "                   'Aerosols size distribution and optical properties, {}, wl={}'.format(file_name_postfix, ri_vo['wl'][wl_index]))\n"
   ],
   "metadata": {
    "collapsed": false
   }
  }
 ],
 "metadata": {
  "kernelspec": {
   "display_name": "Python 3",
   "language": "python",
   "name": "python3"
  },
  "language_info": {
   "codemirror_mode": {
    "name": "ipython",
    "version": 2
   },
   "file_extension": ".py",
   "mimetype": "text/x-python",
   "name": "python",
   "nbconvert_exporter": "python",
   "pygments_lexer": "ipython2",
   "version": "2.7.6"
  }
 },
 "nbformat": 4,
 "nbformat_minor": 0
}
