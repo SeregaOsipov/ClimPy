{
 "cells": [
  {
   "cell_type": "code",
   "execution_count": null,
   "metadata": {
    "collapsed": true
   },
   "outputs": [],
   "source": [
    "import climpy.aeronet_utils as aeronet\n",
    "from shapely.geometry import Point\n",
    "from shapely.geometry.polygon import Polygon\n",
    "import datetime as dt\n",
    "\n",
    "__author__ = 'Sergey Osipov <Serega.Osipov@gmail.com>'\n",
    "\n",
    "# get list of all Aeronet stations\n",
    "file_paths = aeronet.get_stations_file_path(aeronet.ALL_STATIONS, level=15, res=aeronet.ALL_POINTS, inv=False)\n",
    "\n",
    "\n",
    "def spatial_filter(file_path):\n",
    "    \"\"\"\n",
    "    Example of the spatial filter.\n",
    "    Checks if the station is inside the polygon.\n",
    "    :param file_path:\n",
    "    :return:\n",
    "    \"\"\"\n",
    "    df = aeronet.read_aeronet(file_path, only_head=True)\n",
    "    point = Point(df['Site_Longitude(Degrees)'].iloc[0], df['Site_Latitude(Degrees)'].iloc[0])\n",
    "    # MENA region\n",
    "    polygon = Polygon([(30, 12), (30, 30), (60, 30), (60, 12)])\n",
    "    return polygon.contains(point)\n",
    "\n",
    "\n",
    "def spatial_and_temporal_filter(file_path):\n",
    "    \"\"\"\n",
    "    Example of the spatial and temporal filter.\n",
    "    Checks if the station is inside the polygon and if time coverage is appropriate.\n",
    "    :param file_path:\n",
    "    :return:\n",
    "    \"\"\"\n",
    "    df = aeronet.read_aeronet(file_path, only_head=True)\n",
    "    point = Point(df['Site_Longitude(Degrees)'].iloc[0], df['Site_Latitude(Degrees)'].iloc[0])\n",
    "    # MENA region\n",
    "    polygon = Polygon([(30, 12), (30, 30), (60, 30), (60, 12)])\n",
    "    loc_flag = polygon.contains(point)\n",
    "    time_flag = df.index[0] <= dt.datetime(2019, 1, 1)\n",
    "    # TODO: we can also read last record and compare the right time interval as well\n",
    "\n",
    "    return loc_flag and time_flag\n",
    "\n",
    "\n",
    "# get list of stations inside the polygon\n",
    "fps, dfs = aeronet.filter_stations(file_paths, spatial_filter)\n",
    "\n",
    "# or add additional time filter\n",
    "fps, dfs = aeronet.filter_stations(file_paths, spatial_and_temporal_filter())"
   ]
  },
  {
   "cell_type": "code",
   "execution_count": null,
   "outputs": [],
   "source": [
    "# now you can loop through them\n",
    "# for fp in fps:\n",
    "#     print(fp)\n",
    "\n",
    "#The previous results depend on what you have downloaded\n",
    "# TODO: Alternative approach is too scrape the web page with the list of stations and coordinates\n",
    "# for example here https://aeronet.gsfc.nasa.gov/cgi-bin/draw_map_display_aod_v3\n",
    "# but the page results (filters) are not URL specific\n",
    "\n",
    "\n",
    "# given each station\n",
    "fp = fps[0]\n",
    "# you can read all fields into pandas\n",
    "df = aeronet.read_aeronet(fp)\n",
    "\n",
    "# or instead get station name\n",
    "station = fp.split('/')[-1]\n",
    "# and use aux function to return only AOD as ValueObject\n",
    "aeronet_aod_vo = aeronet.get_aod_diag(station, 'AOD_500nm', level=15, res=aeronet.ALL_POINTS)\n",
    "# you can also apply time filter\n",
    "time_range = (dt.datetime(2016, 1, 1), dt.datetime(2016, 2, 1))\n",
    "aeronet_aod_vo = aeronet.get_aod_diag(station, 'AOD_500nm', level=15, res=aeronet.ALL_POINTS,\n",
    "                                      time_range=time_range)\n",
    "\n",
    "\n"
   ],
   "metadata": {
    "collapsed": false,
    "pycharm": {
     "name": "#%%\n"
    }
   }
  }
 ],
 "metadata": {
  "kernelspec": {
   "display_name": "Python 3",
   "language": "python",
   "name": "python3"
  },
  "language_info": {
   "codemirror_mode": {
    "name": "ipython",
    "version": 2
   },
   "file_extension": ".py",
   "mimetype": "text/x-python",
   "name": "python",
   "nbconvert_exporter": "python",
   "pygments_lexer": "ipython2",
   "version": "2.7.6"
  }
 },
 "nbformat": 4,
 "nbformat_minor": 0
}