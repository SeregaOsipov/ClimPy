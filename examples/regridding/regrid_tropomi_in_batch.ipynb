{
 "cells": [
  {
   "cell_type": "code",
   "id": "initial_id",
   "metadata": {
    "collapsed": true,
    "ExecuteTime": {
     "end_time": "2025-08-19T13:14:32.543736Z",
     "start_time": "2025-08-19T13:14:32.538384Z"
    }
   },
   "source": [
    "import pandas as pd\n",
    "from climpy.utils.tropomi_utils import SENTINEL_DATA_ROOT_PATH, get_tropomi_files_metadata"
   ],
   "outputs": [],
   "execution_count": 1
  },
  {
   "metadata": {
    "ExecuteTime": {
     "end_time": "2025-08-19T13:14:34.499354Z",
     "start_time": "2025-08-19T13:14:34.492191Z"
    }
   },
   "cell_type": "code",
   "source": [
    "key = 'CH4'\n",
    "names_df = get_tropomi_files_metadata(key).Name\n",
    "names_df"
   ],
   "id": "980f98e93179cfc1",
   "outputs": [
    {
     "data": {
      "text/plain": [
       "                                                Name\n",
       "0  S5P_OFFL_L2__CH4____20230601T081351_20230601T0...\n",
       "1  S5P_OFFL_L2__CH4____20230601T095521_20230601T1...\n",
       "2  S5P_OFFL_L2__CH4____20230602T075450_20230602T0...\n",
       "3  S5P_OFFL_L2__CH4____20230602T093620_20230602T1..."
      ],
      "text/html": [
       "<div>\n",
       "<style scoped>\n",
       "    .dataframe tbody tr th:only-of-type {\n",
       "        vertical-align: middle;\n",
       "    }\n",
       "\n",
       "    .dataframe tbody tr th {\n",
       "        vertical-align: top;\n",
       "    }\n",
       "\n",
       "    .dataframe thead th {\n",
       "        text-align: right;\n",
       "    }\n",
       "</style>\n",
       "<table border=\"1\" class=\"dataframe\">\n",
       "  <thead>\n",
       "    <tr style=\"text-align: right;\">\n",
       "      <th></th>\n",
       "      <th>Name</th>\n",
       "    </tr>\n",
       "  </thead>\n",
       "  <tbody>\n",
       "    <tr>\n",
       "      <th>0</th>\n",
       "      <td>S5P_OFFL_L2__CH4____20230601T081351_20230601T0...</td>\n",
       "    </tr>\n",
       "    <tr>\n",
       "      <th>1</th>\n",
       "      <td>S5P_OFFL_L2__CH4____20230601T095521_20230601T1...</td>\n",
       "    </tr>\n",
       "    <tr>\n",
       "      <th>2</th>\n",
       "      <td>S5P_OFFL_L2__CH4____20230602T075450_20230602T0...</td>\n",
       "    </tr>\n",
       "    <tr>\n",
       "      <th>3</th>\n",
       "      <td>S5P_OFFL_L2__CH4____20230602T093620_20230602T1...</td>\n",
       "    </tr>\n",
       "  </tbody>\n",
       "</table>\n",
       "</div>"
      ]
     },
     "execution_count": 2,
     "metadata": {},
     "output_type": "execute_result"
    }
   ],
   "execution_count": 2
  },
  {
   "metadata": {
    "ExecuteTime": {
     "end_time": "2025-08-19T13:26:43.033594Z",
     "start_time": "2025-08-19T13:26:29.978615Z"
    }
   },
   "cell_type": "code",
   "source": [
    "# data_root=/Users/osipovs/Data/Copernicus/Sentinel-5P/\n",
    "# python -u ${CLIMPY}/examples/regridding/regrid_tropomi_on_wrf_grid.py --tropomi_in=$data_root/S5P_OFFL_L2__CH4____20230601T081351_20230601T095521_29183_03_020500_20230603T044522 --tropomi_out=$data_root/d02/S5P_OFFL_L2__CH4____20230601T081351_20230601T095521_29183_03_020500_20230603T044522 --tropomi_key=methane_mixing_ratio_bias_corrected\n",
    "df = names_df\n",
    "for index, row in df.iterrows():\n",
    "    print('\\n{}, Processing {}'.format(index, row.Name))\n",
    "    tropomi_in = '/Users/osipovs/Data/Copernicus/Sentinel-5P/{}'.format(row.Name)\n",
    "    tropomi_out = '/Users/osipovs/Data/Copernicus/Sentinel-5P/d02/{}'.format(row.Name)\n",
    "\n",
    "    %run /Users/osipovs/PycharmProjects/ClimPy/examples/regridding/regrid_tropomi_on_wrf_grid.py --wrf_in=/Users/osipovs/Data/AirQuality/THOFA/IC_BC/geo_em.d02.nc --tropomi_in={tropomi_in} --tropomi_out={tropomi_out} --tropomi_key=methane_mixing_ratio_bias_corrected"
   ],
   "id": "5c0623b8e50c129e",
   "outputs": [
    {
     "name": "stdout",
     "output_type": "stream",
     "text": [
      "0, Processing S5P_OFFL_L2__CH4____20230601T081351_20230601T095521_29183_03_020500_20230603T044522.nc\n",
      "Will regrid this TROPOMI onto this WRF:\n",
      "in grid /Users/osipovs/Data/Copernicus/Sentinel-5P/S5P_OFFL_L2__CH4____20230601T081351_20230601T095521_29183_03_020500_20230603T044522.nc\n",
      "out grid/Users/osipovs/Data/AirQuality/THOFA/IC_BC/geo_em.d02.nc\n",
      "Lon[0,0]: 44.4158935546875, Lon[-1,-1]: 56.8514404296875\n",
      "Lat[0,0]: 23.402915954589844, Lat[-1,-1]: 33.72188949584961\n",
      "/Users/osipovs/Data/Copernicus/Sentinel-5P/d02/S5P_OFFL_L2__CH4____20230601T081351_20230601T095521_29183_03_020500_20230603T044522.nc\n",
      "DONE\n",
      "1, Processing S5P_OFFL_L2__CH4____20230601T095521_20230601T113651_29184_03_020500_20230603T053832.nc\n",
      "Will regrid this TROPOMI onto this WRF:\n",
      "in grid /Users/osipovs/Data/Copernicus/Sentinel-5P/S5P_OFFL_L2__CH4____20230601T095521_20230601T113651_29184_03_020500_20230603T053832.nc\n",
      "out grid/Users/osipovs/Data/AirQuality/THOFA/IC_BC/geo_em.d02.nc\n",
      "Lon[0,0]: 44.4158935546875, Lon[-1,-1]: 56.8514404296875\n",
      "Lat[0,0]: 23.402915954589844, Lat[-1,-1]: 33.72188949584961\n",
      "/Users/osipovs/Data/Copernicus/Sentinel-5P/d02/S5P_OFFL_L2__CH4____20230601T095521_20230601T113651_29184_03_020500_20230603T053832.nc\n",
      "DONE\n",
      "2, Processing S5P_OFFL_L2__CH4____20230602T075450_20230602T093620_29197_03_020500_20230603T235942.nc\n",
      "Will regrid this TROPOMI onto this WRF:\n",
      "in grid /Users/osipovs/Data/Copernicus/Sentinel-5P/S5P_OFFL_L2__CH4____20230602T075450_20230602T093620_29197_03_020500_20230603T235942.nc\n",
      "out grid/Users/osipovs/Data/AirQuality/THOFA/IC_BC/geo_em.d02.nc\n",
      "Lon[0,0]: 44.4158935546875, Lon[-1,-1]: 56.8514404296875\n",
      "Lat[0,0]: 23.402915954589844, Lat[-1,-1]: 33.72188949584961\n",
      "/Users/osipovs/Data/Copernicus/Sentinel-5P/d02/S5P_OFFL_L2__CH4____20230602T075450_20230602T093620_29197_03_020500_20230603T235942.nc\n",
      "DONE\n",
      "3, Processing S5P_OFFL_L2__CH4____20230602T093620_20230602T111750_29198_03_020500_20230604T014854.nc\n",
      "Will regrid this TROPOMI onto this WRF:\n",
      "in grid /Users/osipovs/Data/Copernicus/Sentinel-5P/S5P_OFFL_L2__CH4____20230602T093620_20230602T111750_29198_03_020500_20230604T014854.nc\n",
      "out grid/Users/osipovs/Data/AirQuality/THOFA/IC_BC/geo_em.d02.nc\n",
      "Lon[0,0]: 44.4158935546875, Lon[-1,-1]: 56.8514404296875\n",
      "Lat[0,0]: 23.402915954589844, Lat[-1,-1]: 33.72188949584961\n",
      "/Users/osipovs/Data/Copernicus/Sentinel-5P/d02/S5P_OFFL_L2__CH4____20230602T093620_20230602T111750_29198_03_020500_20230604T014854.nc\n",
      "DONE\n"
     ]
    }
   ],
   "execution_count": 11
  }
 ],
 "metadata": {
  "kernelspec": {
   "display_name": "Python 3",
   "language": "python",
   "name": "python3"
  },
  "language_info": {
   "codemirror_mode": {
    "name": "ipython",
    "version": 2
   },
   "file_extension": ".py",
   "mimetype": "text/x-python",
   "name": "python",
   "nbconvert_exporter": "python",
   "pygments_lexer": "ipython2",
   "version": "2.7.6"
  }
 },
 "nbformat": 4,
 "nbformat_minor": 5
}
