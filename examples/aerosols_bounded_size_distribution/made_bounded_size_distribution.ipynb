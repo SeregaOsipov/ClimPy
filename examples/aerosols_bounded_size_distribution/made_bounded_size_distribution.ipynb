{
 "cells": [
  {
   "cell_type": "code",
   "execution_count": 48,
   "metadata": {},
   "outputs": [],
   "source": [
    "import numpy as np\n",
    "import scipy as sp\n",
    "import scipy.special\n",
    "import climpy.utils.wrf_chem_utils as wrf_chem\n",
    "import matplotlib.pyplot as plt\n",
    "\n",
    "__author__ = 'Sergey Osipov <Serega.Osipov@gmail.com>'"
   ]
  },
  {
   "cell_type": "markdown",
   "metadata": {},
   "source": [
    "## Intro\n",
    "\n",
    "This example illustrates the contribution of the aerosols log normal size distribution to the PM of arbitrary size.\n",
    "Specific example was designed for the MADE implementation in WRF-Chem, which has 3 modes."
   ]
  },
  {
   "cell_type": "code",
   "execution_count": 92,
   "metadata": {
    "pycharm": {
     "name": "#%%\n"
    }
   },
   "outputs": [],
   "source": [
    "# to get the size distribution parameters from WRF-Chem you should normally use this:\n",
    "# sg_list, dg_list, moment0_list, moment3_list = aqaba.get_wrf_sd_params(nc)\n",
    "# But to keep example simple and keep ad idea on the range of value, I've tabulated the typical values below\n",
    "\n",
    "sg_list = [1.7, 2.0, 2.5]\n",
    "dg_list = [2.15e-8, 2.65e-8, 4.29e-7]\n",
    "# Last value 1.5e5 was adjusted from 1.5e8 to make all 3 modes equally contribute to volume/mass\n",
    "moment0_list = [50e8, 12e8, 1.5e5]\n",
    "#moment0_list = [50e8, 12e8, 1.5e8]\n",
    "# We don't need next raw in this example, but you will need it in WRF-Chem case to derive dg\n",
    "moment3_list = [177e-15, 1865e-15, 530e-12]\n",
    "\n",
    "# pick the grid for diameter/radius\n",
    "dp = np.logspace(-9, -4, 100)\n",
    "radii = dp / 2\n",
    "# sample the distributions\n",
    "dNdlogp_list = wrf_chem.sample_WRF_MADE_size_distributions(dp, sg_list, dg_list, moment3_list, moment0_list)\n",
    "# compute 3rd moment/volume\n",
    "dVdlogp_list = []\n",
    "for dNdlogp in dNdlogp_list:\n",
    "     dVdlogp = dNdlogp * 4 / 3 * np.pi * (radii*10**-6) ** 3\n",
    "     dVdlogp_list.append(dVdlogp)\n",
    "\n",
    "dNdlogp_vo = {}\n",
    "dNdlogp_vo['data'] = dNdlogp_list\n",
    "dNdlogp_vo['radii'] = radii * 10**6  # um\n",
    "\n",
    "vo = {}\n",
    "vo['data'] = dVdlogp_list\n",
    "vo['radii'] = radii * 10**6  # um"
   ]
  },
  {
   "cell_type": "markdown",
   "metadata": {
    "pycharm": {
     "name": "#%% md\n"
    }
   },
   "source": [
    "Strictly speaking analytical distribution spans values from $-\\infty$ to $+\\infty$."
   ]
  },
  {
   "cell_type": "code",
   "execution_count": 93,
   "metadata": {
    "pycharm": {
     "name": "#%%\n"
    }
   },
   "outputs": [
    {
     "data": {
      "text/plain": [
       "Text(0, 0.5, 'dV/dlogr, ($\\\\mu m^3/cm^3$)')"
      ]
     },
     "execution_count": 93,
     "metadata": {},
     "output_type": "execute_result"
    },
    {
     "data": {
      "image/png": "[encoded data removed]",
      "text/plain": [
       "<Figure size 432x288 with 1 Axes>"
      ]
     },
     "metadata": {
      "needs_background": "light"
     },
     "output_type": "display_data"
    }
   ],
   "source": [
    "fig = plt.figure(constrained_layout=True)#, figsize=(get_full_screen_page_width_inches()/2, 9.85416667), dpi=MY_DPI)\n",
    "plt.grid()\n",
    "plt.plot(vo['radii'], vo['data'][0], '-o')#, color='orange')\n",
    "plt.plot(vo['radii'], vo['data'][1], '-o')#, color='orange')\n",
    "plt.plot(vo['radii'], vo['data'][2], '-o')#, color='orange')\n",
    "\n",
    "plt.xscale('log')\n",
    "# plt.yscale('log')\n",
    "# plt.xlim([1 * 10 ** -2, 5 * 10 ** 1])\n",
    "plt.xlabel('Radius, ($\\mu $m)')\n",
    "plt.ylabel('dV/dlogr, ($\\mu m^3/cm^3$)')"
   ]
  },
  {
   "cell_type": "markdown",
   "metadata": {},
   "source": [
    "X axis scale is log and thus area under the curve shows the contribution to the volume.\n",
    "Atmospheric science often deals with the quantities such as PM10, which are particles up to 10 um in diameters.\n",
    "To get the modes contribution to specific size PM, we need to integrate bounded size distribution.\n",
    "\n",
    "Of course the integration can be done numerically, which can be slow.\n",
    "For the log-normal pdfs there is analytical solution given through the error function.\n",
    "This approach is much faster and allows simple use of the additional factor.\n",
    "See for details https://patarnott.com/pdf/SizeDistributions.pdf, equations 24-27"
   ]
  },
  {
   "cell_type": "code",
   "execution_count": 94,
   "metadata": {
    "pycharm": {
     "name": "#%%\n"
    }
   },
   "outputs": [
    {
     "name": "stdout",
     "output_type": "stream",
     "text": [
      "2.5e-07\n",
      "2.15e-08\n",
      "11.627906976744185\n",
      "5.116726370370092\n",
      "0.7504216692304371\n",
      "0.7504216692304371\n",
      "2.5e-07\n",
      "2.65e-08\n",
      "9.433962264150944\n",
      "3.703729033194666\n",
      "0.9802581434685472\n",
      "0.9802581434685472\n",
      "2.5e-07\n",
      "4.29e-07\n",
      "0.5827505827505828\n",
      "0.6530932688550987\n",
      "1.2958307800931994\n",
      "1.2958307800931994\n",
      "[1.8857660151749833e-06, 0.0006020601510289825, 0.5443356184503549]\n",
      "[0.0012158705239486145, 0.12255274596001153, 0.033559374840372136]\n"
     ]
    }
   ],
   "source": [
    "# define the range of sizes, in this case 250 nm -1 micron.\n",
    "d_min = 0.25 * 10**-6  # m\n",
    "d_max = 1 * 10**-6  # um\n",
    "\n",
    "#d_min = 4 * 10**-6  # m\n",
    "#d_max = 100 * 10**-6  # um\n",
    "#d_min = 3 * 10**-8  # m\n",
    "\n",
    "#d_min = 1 * 10**-7  # m\n",
    "#d_max = 10 * 10**-6  # um\n",
    "\n",
    "# this factors are the ratio that they contribute to the total number N_0 or volume V_0\n",
    "N_factors = []\n",
    "V_factors = []\n",
    "for sg, dg, moment3, moment0 in zip(sg_list, dg_list, moment3_list, moment0_list):    \n",
    "    d_v_median = dg * np.exp(3 * np.log(sg)**2)  # volume median diameter\n",
    "\n",
    "    #print(sp.special.erf(np.log(d_max/dg)/(2**0.5*np.log(sg))))\n",
    "    print(d_min)    \n",
    "    print(dg)\n",
    "    print(d_min/dg)\n",
    "    print(np.log(d_max/dg)/(2**0.5*np.log(sg)))\n",
    "    print(2**0.5*np.log(sg))\n",
    "    print((2**0.5)*np.log(sg))\n",
    "    \n",
    "    # N[Dmin, Dmax] = N_0/2 * []\n",
    "    N_factor = 1/2 * (sp.special.erf(np.log(d_max/dg)/(2**0.5*np.log(sg))) - sp.special.erf(np.log(d_min/dg)/(2**0.5*np.log(sg))))    \n",
    "    # V[Dmin, Dmax] = N_0/2 * []   ! Still N_0, not V_0, express N_0 through V_0\n",
    "    # V_0 = N_0  * pi/6 * dg^3 * exp(9/2 ln(sg)^2)\n",
    "    NtoV_factor = (np.pi/6 * dg**3 * np.exp(9/2*np.log(sg)**2))**-1\n",
    "    #print(NtoV_factor)\n",
    "    V_factor = 1/2 * (sp.special.erf(np.log(d_max/d_v_median)/(2**0.5*np.log(sg))) - sp.special.erf(np.log(d_min/d_v_median)/(2**0.5*np.log(sg))))\n",
    "    #print(V_factor)\n",
    "    \n",
    "    #print(N_factor)\n",
    "    \n",
    "\n",
    "    N_factors.append(N_factor)\n",
    "    V_factors.append(V_factor)\n",
    "print(N_factors)\n",
    "print(V_factors)"
   ]
  },
  {
   "cell_type": "code",
   "execution_count": null,
   "metadata": {
    "pycharm": {
     "name": "#%%\n"
    }
   },
   "outputs": [],
   "source": []
  },
  {
   "cell_type": "code",
   "execution_count": 91,
   "metadata": {
    "pycharm": {
     "name": "#%%\n"
    }
   },
   "outputs": [
    {
     "data": {
      "text/plain": [
       "Text(0, 0.5, 'dN/dlogr, (#$/cm^3$)')"
      ]
     },
     "execution_count": 91,
     "metadata": {},
     "output_type": "execute_result"
    },
    {
     "data": {
      "image/png": "[encoded data removed]",
      "text/plain": [
       "<Figure size 432x288 with 1 Axes>"
      ]
     },
     "metadata": {
      "needs_background": "light"
     },
     "output_type": "display_data"
    }
   ],
   "source": [
    "fig = plt.figure(constrained_layout=True)#, figsize=(get_full_screen_page_width_inches()/2, 9.85416667), dpi=MY_DPI)\n",
    "plt.cla()\n",
    "plt.plot(dNdlogp_vo['radii'], dNdlogp_vo['data'][0], '-o')#, color='orange')\n",
    "plt.plot(dNdlogp_vo['radii'], dNdlogp_vo['data'][1], '-o')#, color='orange')\n",
    "plt.plot(dNdlogp_vo['radii'], dNdlogp_vo['data'][2], '-o')#, color='orange')\n",
    "\n",
    "plt.xscale('log')\n",
    "# plt.yscale('log')\n",
    "# plt.xlim([1 * 10 ** -2, 5 * 10 ** 1])\n",
    "plt.xlabel('Radius, ($\\mu $m)')\n",
    "plt.ylabel('dN/dlogr, (#$/cm^3$)')"
   ]
  }
 ],
 "metadata": {
  "kernelspec": {
   "display_name": "Python 3",
   "language": "python",
   "name": "python3"
  },
  "language_info": {
   "codemirror_mode": {
    "name": "ipython",
    "version": 3
   },
   "file_extension": ".py",
   "mimetype": "text/x-python",
   "name": "python",
   "nbconvert_exporter": "python",
   "pygments_lexer": "ipython3",
   "version": "3.7.6"
  }
 },
 "nbformat": 4,
 "nbformat_minor": 1
}